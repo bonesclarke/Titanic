{
 "cells": [
  {
   "cell_type": "code",
   "execution_count": 1,
   "metadata": {},
   "outputs": [],
   "source": [
    "import ydf\n",
    "import pandas as pd"
   ]
  },
  {
   "cell_type": "code",
   "execution_count": null,
   "metadata": {},
   "outputs": [],
   "source": [
    "# ydf models - not very accurate\n",
    "# Train a Gradient Boosted Trees model\n",
    "model = ydf.GradientBoostedTreesLearner(\n",
    "    label=\"Survived\", \n",
    "    growing_strategy=\"BEST_FIRST_GLOBAL\",\n",
    "    include_all_columns=False, \n",
    "    features=input_features, \n",
    "    categorical_algorithm=\"RANDOM\", \n",
    "    split_axis=\"SPARSE_OBLIQUE\",\n",
    "    sparse_oblique_normalization=\"MIN_MAX\",\n",
    "    sparse_oblique_num_projections_exponent=2.0,\n",
    "    num_trees=1000, \n",
    "    min_examples=1,\n",
    "    shrinkage=0.05,\n",
    "    random_seed=12365556,\n",
    "    # validation_ratio=0.0,\n",
    "    num_candidate_attributes_ratio=0.2,\n",
    "    max_depth=6,\n",
    "    compute_permutation_variable_importance=True).train(preprocessed_train_df)\n",
    "\n",
    "self_evaluation = model.evaluate(preprocessed_train_df)\n",
    "print(f\"Accuracy: {self_evaluation.accuracy} Loss:{self_evaluation.loss}\")"
   ]
  },
  {
   "cell_type": "code",
   "execution_count": null,
   "metadata": {},
   "outputs": [
    {
     "name": "stdout",
     "output_type": "stream",
     "text": [
      "Train model on 891 examples\n",
      "Model trained in 0:00:03.841668\n",
      "Accuracy: 0.9270482603815937 Loss: 0.1878740243116015\n"
     ]
    }
   ],
   "source": [
    "# Train a random forest learner - not very accurate\n",
    "model = ydf.RandomForestLearner(\n",
    "    label=\"Survived\", \n",
    "    features=input_features,\n",
    "    winner_take_all=True, \n",
    "    num_trees=1000,\n",
    "    categorical_algorithm=\"RANDOM\",\n",
    "    split_axis=\"SPARSE_OBLIQUE\",\n",
    "    sparse_oblique_normalization=\"MIN_MAX\",\n",
    "    sparse_oblique_num_projections_exponent=2.0,\n",
    "    compute_oob_performances=True,\n",
    "    compute_oob_variable_importances=True\n",
    ").train(preprocessed_train_df)\n",
    "\n",
    "# Evaluate the model\n",
    "self_evaluation = model.evaluate(preprocessed_train_df)\n",
    "print(f\"Accuracy: {self_evaluation.accuracy} Loss: {self_evaluation.loss}\")"
   ]
  },
  {
   "cell_type": "code",
   "execution_count": null,
   "metadata": {},
   "outputs": [],
   "source": [
    "# Look at a model (input features, training logs, structure, etc.)\n",
    "# model.describe()"
   ]
  },
  {
   "cell_type": "code",
   "execution_count": null,
   "metadata": {},
   "outputs": [],
   "source": [
    "# Generate predictions\n",
    "predictions = model.predict(preprocessed_serving_df)\n",
    "\n",
    "predictions"
   ]
  }
 ],
 "metadata": {
  "kernelspec": {
   "display_name": ".venv",
   "language": "python",
   "name": "python3"
  },
  "language_info": {
   "codemirror_mode": {
    "name": "ipython",
    "version": 3
   },
   "file_extension": ".py",
   "mimetype": "text/x-python",
   "name": "python",
   "nbconvert_exporter": "python",
   "pygments_lexer": "ipython3",
   "version": "3.12.4"
  }
 },
 "nbformat": 4,
 "nbformat_minor": 2
}
